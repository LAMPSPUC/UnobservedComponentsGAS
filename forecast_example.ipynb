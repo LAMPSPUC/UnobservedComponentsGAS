{
 "cells": [
  {
   "cell_type": "markdown",
   "metadata": {
    "vscode": {
     "languageId": "julia"
    }
   },
   "source": [
    "# Forecasting Example\n",
    "\n",
    "In this notebook, we have developed code the show an example of how to obtain and plot both mean and interval forecast of a fitted UnnobservedComponentGAS model.\n",
    "\n",
    "## Import packages"
   ]
  },
  {
   "cell_type": "code",
   "execution_count": 5,
   "metadata": {
    "vscode": {
     "languageId": "julia"
    }
   },
   "outputs": [
    {
     "name": "stderr",
     "output_type": "stream",
     "text": [
      "\u001b[32m\u001b[1m  Activating\u001b[22m\u001b[39m project at `c:\\Users\\matheuscn.ELE.000\\Documents\\LAMPS\\Pacotes\\GAS_LAMPSPUC\\UnobservedComponentsGAS`\n",
      "┌ Warning: The project dependencies or compat requirements have changed since the manifest was last resolved.\n",
      "│ It is recommended to `Pkg.resolve()` or consider `Pkg.update()` if necessary.\n",
      "└ @ Pkg.API C:\\workdir\\usr\\share\\julia\\stdlib\\v1.8\\Pkg\\src\\API.jl:1535\n",
      "WARNING: replacing module UnobservedComponentsGAS.\n",
      "WARNING: method definition for #find_first_model_for_local_search#7 at c:\\Users\\matheuscn.ELE.000\\Documents\\LAMPS\\Pacotes\\GAS_LAMPSPUC\\UnobservedComponentsGAS\\src\\distributions\\t_location_scale.jl:351 declares type variable Dl but does not use it.\n",
      "WARNING: method definition for #find_first_model_for_local_search#8 at c:\\Users\\matheuscn.ELE.000\\Documents\\LAMPS\\Pacotes\\GAS_LAMPSPUC\\UnobservedComponentsGAS\\src\\distributions\\t_location_scale.jl:410 declares type variable Dl but does not use it.\n",
      "WARNING: method definition for #fit_tlocationscale_local_search#9 at c:\\Users\\matheuscn.ELE.000\\Documents\\LAMPS\\Pacotes\\GAS_LAMPSPUC\\UnobservedComponentsGAS\\src\\distributions\\t_location_scale.jl:465 declares type variable Dl but does not use it.\n",
      "WARNING: method definition for #predict#169 at c:\\Users\\matheuscn.ELE.000\\Documents\\LAMPS\\Pacotes\\GAS_LAMPSPUC\\UnobservedComponentsGAS\\src\\forecast.jl:628 declares type variable Ml but does not use it.\n"
     ]
    },
    {
     "data": {
      "text/plain": [
       "Main.UnobservedComponentsGAS"
      ]
     },
     "metadata": {},
     "output_type": "display_data"
    }
   ],
   "source": [
    "using Plots, CSV, DataFrames\n",
    "\n",
    "import Pkg\n",
    "Pkg.activate(\".\")\n",
    "Pkg.instantiate()\n",
    "\n",
    "include(\"src/UnobservedComponentsGAS.jl\")"
   ]
  },
  {
   "cell_type": "markdown",
   "metadata": {},
   "source": [
    "## Reading Energy Consumption data"
   ]
  },
  {
   "cell_type": "code",
   "execution_count": null,
   "metadata": {
    "vscode": {
     "languageId": "julia"
    }
   },
   "outputs": [],
   "source": [
    "data = CSV.read(\"examples/data/energy_consumption.csv\", DataFrame)\n",
    "\n",
    "steps_ahead = 24\n",
    "y_train     = data[1:end-steps_ahead, 2]\n",
    "y_val       = data[end-steps_ahead+1:end, 2] \n",
    "dates_train = data[1:end-steps_ahead, 1]\n",
    "dates_val   = data[end-steps_ahead+1:end, 1]\n",
    "\n",
    "plot(title = \"Energy Consumption\")\n",
    "plot!(dates_train, y_train, label = \"train\")\n",
    "plot!(dates_val, y_val, label = \"validation\")"
   ]
  },
  {
   "cell_type": "markdown",
   "metadata": {},
   "source": [
    "## Define a Score-Driven Model\n",
    "\n",
    "Model specifications:\n",
    " - Distribution: LogNormal\n",
    " - Only the first parameter as time varying\n",
    " - d = 1\n",
    " - 500 scenarios to obtain the forecast\n",
    " - level component: random walk with slope process\n",
    " - seasonality component: deterministic with 12 seasonal periods (monthly seasonality)\n",
    " - ar component: missing\n",
    "\n",
    "Since we have only the first parameter as time varying, we can pass a string \"dynamic\" instead of a vector of strings [\"dynamic\", \"\"].\n",
    " - *Example*: we are able to define level = \"random walk slope\" instead of level = [\"random walk slope\", \"\"]\n"
   ]
  },
  {
   "cell_type": "code",
   "execution_count": null,
   "metadata": {
    "vscode": {
     "languageId": "julia"
    }
   },
   "outputs": [],
   "source": [
    "dist                    = UnobservedComponentsGAS.LogNormalDistribution()\n",
    "time_varying_parameters = [true, false]\n",
    "d                       = 1.0\n",
    "num_scenarious          = 500\n",
    "\n",
    "level       = \"random walk slope\"\n",
    "seasonality = \"deterministic 12\"\n",
    "ar          = missing\n",
    "\n",
    "model = UnobservedComponentsGAS.GASModel(dist, time_varying_parameters, d, level,seasonality, ar)"
   ]
  },
  {
   "cell_type": "markdown",
   "metadata": {},
   "source": [
    "## Fit and Forecast the specified model"
   ]
  },
  {
   "cell_type": "code",
   "execution_count": null,
   "metadata": {
    "vscode": {
     "languageId": "julia"
    }
   },
   "outputs": [],
   "source": [
    "fitted_model = UnobservedComponentsGAS.fit(model, y_train; robust = false)\n",
    "forec        = UnobservedComponentsGAS.predict(model, fitted_model, y_train, steps_ahead, num_scenarious)"
   ]
  },
  {
   "cell_type": "markdown",
   "metadata": {
    "vscode": {
     "languageId": "julia"
    }
   },
   "source": [
    "## Plot Mean Forecast with Confidence Intervals"
   ]
  },
  {
   "cell_type": "code",
   "execution_count": null,
   "metadata": {
    "vscode": {
     "languageId": "julia"
    }
   },
   "outputs": [],
   "source": [
    "plot(title = \"Mean Forecast with Confidence Intervals\")\n",
    "plot!(dates_val, forec[\"intervals\"][\"95\"][\"lower\"], fillrange = forec[\"intervals\"][\"95\"][\"upper\"], fillalpha = 0.15, color = :grey, label = \"95% Confidence band\")\n",
    "plot!(dates_val, forec[\"intervals\"][\"80\"][\"lower\"], fillrange = forec[\"intervals\"][\"80\"][\"upper\"], fillalpha = 0.15, color = :darkgrey, label = \"80% Confidence band\")\n",
    "plot!(dates_val, forec[\"intervals\"][\"95\"][\"upper\"], label = \"\", color = :grey)\n",
    "plot!(dates_val, forec[\"intervals\"][\"80\"][\"upper\"], label = \"\", color = :darkgrey)\n",
    "plot!(dates_val, y_val, label = \"time series\", color = :blue)\n",
    "plot!(dates_val, forec[\"mean\"], label = \"mean forecast\", color = :red)"
   ]
  },
  {
   "cell_type": "markdown",
   "metadata": {
    "vscode": {
     "languageId": "julia"
    }
   },
   "source": [
    "## Plot Mean Forecast with Scenarios"
   ]
  },
  {
   "cell_type": "code",
   "execution_count": null,
   "metadata": {
    "vscode": {
     "languageId": "julia"
    }
   },
   "outputs": [],
   "source": [
    "plot(title = \"Mean Forecast with Scenarios\")\n",
    "plot!(dates_val, forec[\"scenarios\"], label = \"\", color = :grey60)\n",
    "plot!(dates_val, y_val, label = \"time series\", color = :blue)\n",
    "plot!(dates_val, forec[\"mean\"], label = \"mean forecast\", color = :red)"
   ]
  }
 ],
 "metadata": {
  "language_info": {
   "name": "python"
  }
 },
 "nbformat": 4,
 "nbformat_minor": 2
}
