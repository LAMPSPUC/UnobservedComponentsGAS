{
 "cells": [
  {
   "cell_type": "markdown",
   "metadata": {},
   "source": [
    "## Importing packages"
   ]
  },
  {
   "cell_type": "code",
   "execution_count": null,
   "metadata": {},
   "outputs": [],
   "source": [
    "Pkg.add(\"https://github.com/LAMPSPUC/UnobservedComponentsGAS.git\")\n",
    "\n",
    "using UnobservedComponentsGAS, Plots, CSV, DataFrames"
   ]
  },
  {
   "cell_type": "markdown",
   "metadata": {},
   "source": [
    "## Reading Airline Passengers dataset "
   ]
  },
  {
   "cell_type": "code",
   "execution_count": 2,
   "metadata": {},
   "outputs": [
    {
     "ename": "UndefVarError",
     "evalue": "UndefVarError: CSV not defined",
     "output_type": "error",
     "traceback": [
      "UndefVarError: CSV not defined\n",
      "\n",
      "Stacktrace:\n",
      " [1] top-level scope\n",
      "   @ c:\\Users\\malves\\Documents\\Stone\\GAS\\UnobservedComponentsGAS\\examples\\data\\components_example.ipynb:1"
     ]
    }
   ],
   "source": [
    "data = CSV.read(\"examples/data/airline-passengers.csv\", DataFrame)"
   ]
  },
  {
   "cell_type": "code",
   "execution_count": null,
   "metadata": {},
   "outputs": [],
   "source": [
    "dates = data.Date\n",
    "y = data.Value"
   ]
  },
  {
   "cell_type": "code",
   "execution_count": null,
   "metadata": {},
   "outputs": [],
   "source": [
    "plot(dates, y, color = \"black\", legend = false)\n",
    "title!(\"Air Passenger numbers from 1949 to 1961\")\n",
    "yaxis!(\"Passenger numbers (1000's)\")"
   ]
  },
  {
   "cell_type": "markdown",
   "metadata": {},
   "source": [
    "## Defining and estimating a Score-Driven Model"
   ]
  },
  {
   "cell_type": "markdown",
   "metadata": {},
   "source": [
    "Model specifications:\n",
    " - Distribution: Normal\n",
    " - Only the mean parameter as time varying\n",
    " - d = 1\n",
    " - level component: random walk with slope process\n",
    " - seasonality component: stochastic with 12 seasonal periods (monthly seasonality)\n",
    " - ar component: missing"
   ]
  },
  {
   "cell_type": "code",
   "execution_count": null,
   "metadata": {},
   "outputs": [],
   "source": [
    "dist = UnobservedComponentsGAS.NormalDistribution();\n",
    "\n",
    "time_varying_params = [true, false];\n",
    "d                   = 1.0;\n",
    "level               = [\"random walk slope\", \"\"];\n",
    "seasonality         = [\"stochastic 12\", \"\"];\n",
    "ar                  = missing\n",
    "sample_robustness   = false;\n",
    "\n",
    "model = UnobservedComponentsGAS.GASModel(dist, time_varying_params, d, level, seasonality, ar)"
   ]
  },
  {
   "cell_type": "code",
   "execution_count": null,
   "metadata": {},
   "outputs": [],
   "source": [
    "plot(dates, log.(y), color = \"black\", legend = false)\n",
    "title!(\"Air Passenger numbers from 1949 to 1961\")\n",
    "yaxis!(\"log(Passenger numbers (1000's))\")"
   ]
  },
  {
   "cell_type": "code",
   "execution_count": null,
   "metadata": {},
   "outputs": [],
   "source": [
    "fitted_model = UnobservedComponentsGAS.fit(model, log.(y); α = 0.0, robust = sample_robustness, initial_values = missing);"
   ]
  },
  {
   "cell_type": "markdown",
   "metadata": {},
   "source": [
    "## Analyzing model's components"
   ]
  },
  {
   "cell_type": "code",
   "execution_count": null,
   "metadata": {},
   "outputs": [],
   "source": [
    "level = fitted_model.components[\"param_1\"][\"level\"][\"value\"]\n",
    "\n",
    "p1 = plot(dates[2:end], level[2:end], color = \"black\", legend = false)\n",
    "     title!(\"Level component\")"
   ]
  },
  {
   "cell_type": "code",
   "execution_count": null,
   "metadata": {},
   "outputs": [],
   "source": [
    "slope = fitted_model.components[\"param_1\"][\"slope\"][\"value\"]\n",
    "\n",
    "p2 = plot(dates[2:end], slope[2:end], color = \"black\", legend = false)\n",
    "     title!(\"Slope component\")"
   ]
  },
  {
   "cell_type": "code",
   "execution_count": null,
   "metadata": {},
   "outputs": [],
   "source": [
    "seasonality = fitted_model.components[\"param_1\"][\"seasonality\"][\"value\"]\n",
    "\n",
    "p3 = plot(dates[2:end], seasonality[2:end], color = \"black\", legend = false)\n",
    "     title!(\"Seasonality component\")"
   ]
  },
  {
   "cell_type": "code",
   "execution_count": null,
   "metadata": {},
   "outputs": [],
   "source": [
    "plot(p1,p2, p3, layout=(3, 1))"
   ]
  }
 ],
 "metadata": {
  "kernelspec": {
   "display_name": "Julia 1.8.3",
   "language": "julia",
   "name": "julia-1.8"
  },
  "language_info": {
   "file_extension": ".jl",
   "mimetype": "application/julia",
   "name": "julia",
   "version": "1.8.3"
  }
 },
 "nbformat": 4,
 "nbformat_minor": 2
}
