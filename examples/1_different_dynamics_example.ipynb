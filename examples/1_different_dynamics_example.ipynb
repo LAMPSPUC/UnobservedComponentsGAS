{
 "cells": [
  {
   "cell_type": "markdown",
   "metadata": {},
   "source": [
    "# Different Dynamics Example\n",
    "\n",
    "In this notebook, we have developed some examples to ilustrate different model specifications one could choose for its own time series.\n",
    "\n",
    "The model specification should be chosen in a manner that accurately represents the characteristics present in the time series to be modeled."
   ]
  },
  {
   "cell_type": "markdown",
   "metadata": {},
   "source": [
    "## Import packages"
   ]
  },
  {
   "cell_type": "code",
   "execution_count": null,
   "metadata": {},
   "outputs": [],
   "source": [
    "import Pkg\n",
    "Pkg.add(url = \"https://github.com/LAMPSPUC/UnobservedComponentsGAS.git\")\n",
    "\n",
    "using UnobservedComponentsGAS, Plots, CSV, DataFrames"
   ]
  },
  {
   "cell_type": "markdown",
   "metadata": {},
   "source": [
    "## Reading some datasets"
   ]
  },
  {
   "cell_type": "code",
   "execution_count": 2,
   "metadata": {},
   "outputs": [],
   "source": [
    "data_energy  = CSV.read(\"data/energy_consumption.csv\", DataFrame)\n",
    "data_ena     = CSV.read(\"data/ena.csv\", DataFrame)\n",
    "data_airline = CSV.read(\"data/airline-passengers.csv\", DataFrame);\n",
    "\n",
    "y_energy  = data_energy[:, 2]\n",
    "y_ena     = data_ena[:, 2]\n",
    "y_airline = data_airline[:, 2];"
   ]
  },
  {
   "cell_type": "markdown",
   "metadata": {},
   "source": [
    "## Model 1\n",
    "\n",
    " - Normal Distribution\n",
    " - Mean Parameter as time-varying and constant variance\n",
    " - Level component as a Random Walk Process with Slope\n",
    " - Deterministic Seasonality with 12 seasonal periods\n",
    " - No autoregressive component\n",
    " - d = 1"
   ]
  },
  {
   "cell_type": "code",
   "execution_count": 5,
   "metadata": {},
   "outputs": [
    {
     "name": "stdout",
     "output_type": "stream",
     "text": [
      "UnobservedComponentsGAS.GASModel(UnobservedComponentsGAS.NormalDistribution(missing, missing), Bool[1, 0], 1.0, [\"random walk\", \"\"], [\"deterministic 12\", \"\"], [missing, missing])\n"
     ]
    }
   ],
   "source": [
    "time_varying_parameters = [true, false]\n",
    "dist                    = UnobservedComponentsGAS.NormalDistribution()\n",
    "d                       = 1.0\n",
    "num_scenarious          = 500\n",
    "\n",
    "level       = [\"random walk\", \"\"]\n",
    "seasonality = [\"deterministic 12\", \"\"]\n",
    "ar          = [missing, missing]\n",
    "\n",
    "model1 = UnobservedComponentsGAS.GASModel(dist, time_varying_parameters, d, level,seasonality, ar)\n",
    "\n",
    "println(model1)"
   ]
  },
  {
   "cell_type": "code",
   "execution_count": null,
   "metadata": {},
   "outputs": [],
   "source": [
    "fitted_model1 = UnobservedComponentsGAS.fit(model, y_energy)"
   ]
  },
  {
   "cell_type": "markdown",
   "metadata": {},
   "source": [
    "## Model 1 (version 2)\n",
    "\n",
    " - Normal Distribution\n",
    " - Mean Parameter as time-varying and constant variance\n",
    " - Level component as a Random Walk Process with Slope\n",
    " - Deterministic Seasonality with 12 seasonal periods\n",
    " - No autoregressive component\n",
    " - d = 1\n",
    "\n",
    "Since, in this model, only the first parameter is time-varying, one could simplify the model specification chosing to pass, for each component (level, seasonality and ar), only the dynamic of the first parameter, instead of a vector with every dynamic."
   ]
  },
  {
   "cell_type": "code",
   "execution_count": 6,
   "metadata": {},
   "outputs": [
    {
     "name": "stdout",
     "output_type": "stream",
     "text": [
      "UnobservedComponentsGAS.GASModel(UnobservedComponentsGAS.NormalDistribution(missing, missing), Bool[1, 0], 1.0, [\"random walk\", \"\"], [\"deterministic 12\", \"\"], [missing, missing])\n"
     ]
    }
   ],
   "source": [
    "time_varying_parameters = [true, false]\n",
    "dist                    = UnobservedComponentsGAS.NormalDistribution()\n",
    "d                       = 1.0\n",
    "num_scenarious          = 500\n",
    "\n",
    "level       = \"random walk\"\n",
    "seasonality = \"deterministic 12\"\n",
    "ar          = missing\n",
    "\n",
    "model1 = UnobservedComponentsGAS.GASModel(dist, time_varying_parameters, d, level,seasonality, ar)\n",
    "\n",
    "println(model1)"
   ]
  },
  {
   "cell_type": "code",
   "execution_count": null,
   "metadata": {},
   "outputs": [],
   "source": [
    "fitted_model1 = UnobservedComponentsGAS.fit(model, y_energy)"
   ]
  },
  {
   "cell_type": "markdown",
   "metadata": {},
   "source": [
    "## Model 2\n",
    "\n",
    " - tLocationScale Distribution\n",
    " - Mean Parameter as time-varying and constant variance\n",
    " - Level component not specified\n",
    " - Deterministic Seasonality with 12 seasonal periods\n",
    " - Autoregressive component as an AR(2) process\n",
    " - d = 0\n"
   ]
  },
  {
   "cell_type": "code",
   "execution_count": 7,
   "metadata": {},
   "outputs": [
    {
     "name": "stdout",
     "output_type": "stream",
     "text": [
      "UnobservedComponentsGAS.GASModel(UnobservedComponentsGAS.tLocationScaleDistribution(missing, missing, missing), Bool[1, 0, 0], 0.0, [\"\", \"\", \"\"], [\"deterministic 12\", \"\", \"\"], Union{Missing, Int64}[3, missing, missing])\n"
     ]
    }
   ],
   "source": [
    "time_varying_parameters = [true, false, false]\n",
    "dist                    = UnobservedComponentsGAS.tLocationScaleDistribution()\n",
    "d                       = 0.0\n",
    "num_scenarious          = 500\n",
    "\n",
    "level       = \"\"\n",
    "seasonality = \"deterministic 12\"\n",
    "ar          = 3\n",
    "\n",
    "model2 = UnobservedComponentsGAS.GASModel(dist, time_varying_parameters, d, level,seasonality, ar)\n",
    "\n",
    "println(model2)"
   ]
  },
  {
   "cell_type": "code",
   "execution_count": null,
   "metadata": {},
   "outputs": [],
   "source": [
    "fitted_model2 = UnobservedComponentsGAS.fit(model, y_ena)"
   ]
  },
  {
   "cell_type": "markdown",
   "metadata": {},
   "source": [
    "## Model 3\n",
    "\n",
    " - LogNormal Distribution\n",
    " - Mean Parameter as time-varying and constant variance\n",
    " - Level component not specified\n",
    " - Stochastic Seasonality with 12 seasonal periods\n",
    " - Autoregressive component as an AR(2) process\n",
    " - d = 0\n"
   ]
  },
  {
   "cell_type": "code",
   "execution_count": 8,
   "metadata": {},
   "outputs": [
    {
     "name": "stdout",
     "output_type": "stream",
     "text": [
      "UnobservedComponentsGAS.GASModel(UnobservedComponentsGAS.LogNormalDistribution(missing, missing), Bool[1, 0], 0.0, [\"\", \"\"], [\"stochastic 12\", \"\"], Union{Missing, Int64}[3, missing])\n"
     ]
    }
   ],
   "source": [
    "time_varying_parameters = [true, false]\n",
    "dist                    = UnobservedComponentsGAS.LogNormalDistribution()\n",
    "d                       = 0.0\n",
    "num_scenarious          = 500\n",
    "\n",
    "level       = \"\"\n",
    "seasonality = \"stochastic 12\"\n",
    "ar          = 3\n",
    "\n",
    "model3 = UnobservedComponentsGAS.GASModel(dist, time_varying_parameters, d, level,seasonality, ar)\n",
    "\n",
    "println(model3)"
   ]
  },
  {
   "cell_type": "code",
   "execution_count": 9,
   "metadata": {},
   "outputs": [],
   "source": [
    "fitted_model3 = UnobservedComponentsGAS.fit(model3, y_ena)"
   ]
  },
  {
   "cell_type": "markdown",
   "metadata": {},
   "source": [
    "## Model 4\n",
    "\n",
    " - LogNormal Distribution\n",
    " - Mean Parameter as time-varying and constant variance\n",
    " - Level component as an AR(1) process\n",
    " - Deterministic Seasonality with 12 seasonal periods\n",
    " - No autoregressive component\n",
    " - d = 1.0\n",
    " - robust estimation\n"
   ]
  },
  {
   "cell_type": "code",
   "execution_count": 2,
   "metadata": {},
   "outputs": [
    {
     "name": "stdout",
     "output_type": "stream",
     "text": [
      "UnobservedComponentsGAS.GASModel(UnobservedComponentsGAS.LogNormalDistribution(missing, missing), Bool[1, 0], 1.0, [\"ar(1)\", \"\"], [\"deterministic 12\", \"\"], [missing, missing])\n"
     ]
    }
   ],
   "source": [
    "time_varying_parameters = [true, false]\n",
    "dist                    = UnobservedComponentsGAS.LogNormalDistribution()\n",
    "d                       = 1.0\n",
    "num_scenarious          = 500\n",
    "\n",
    "level       = \"ar(1)\"\n",
    "seasonality = \"deterministic 12\"\n",
    "ar          = missing\n",
    "\n",
    "model4 = UnobservedComponentsGAS.GASModel(dist, time_varying_parameters, d, level,seasonality, ar)\n",
    "\n",
    "println(model4)"
   ]
  },
  {
   "cell_type": "code",
   "execution_count": null,
   "metadata": {},
   "outputs": [],
   "source": [
    "fitted_model4 = UnobservedComponentsGAS.fit(model4, y_ena; robust = true)"
   ]
  },
  {
   "cell_type": "markdown",
   "metadata": {},
   "source": [
    "## Model 5\n",
    "\n",
    " - Normal Distribution\n",
    " - Mean Parameter as time-varying and constant variance\n",
    " - Level component as an Random Walk with Slope process\n",
    " - Deterministic Seasonality with 12 seasonal periods\n",
    " - No autoregressive component\n",
    " - d = 1.0\n",
    " - robust estimation\n",
    " - Regularization with $\\alpha=0.8$\n",
    "\n",
    "It is important to remember that $\\alpha=0.0$ means that there is no regularization and $\\alpha=1.0$ means full regularization.\n"
   ]
  },
  {
   "cell_type": "code",
   "execution_count": 9,
   "metadata": {},
   "outputs": [
    {
     "name": "stdout",
     "output_type": "stream",
     "text": [
      "UnobservedComponentsGAS.GASModel(UnobservedComponentsGAS.NormalDistribution(missing, missing), Bool[1, 0], 1.0, [\"random walk slope\", \"\"], [\"deterministic 12\", \"\"], [missing, missing])\n"
     ]
    }
   ],
   "source": [
    "time_varying_parameters = [true, false]\n",
    "dist                    = UnobservedComponentsGAS.NormalDistribution()\n",
    "d                       = 1.0\n",
    "num_scenarious          = 500\n",
    "\n",
    "level       = \"random walk slope\"\n",
    "seasonality = \"deterministic 12\"\n",
    "ar          = missing\n",
    "\n",
    "model5 = UnobservedComponentsGAS.GASModel(dist, time_varying_parameters, d, level,seasonality, ar)\n",
    "\n",
    "println(model5)"
   ]
  },
  {
   "cell_type": "code",
   "execution_count": null,
   "metadata": {},
   "outputs": [],
   "source": [
    "fitted_model5 = UnobservedComponentsGAS.fit(model5, y_airline; robust = true, α = 0.8)"
   ]
  },
  {
   "cell_type": "markdown",
   "metadata": {},
   "source": [
    "## Model 6\n",
    "\n",
    " - Normal Distribution\n",
    " - Mean and Variance Parameters as time-varying\n",
    " - Level component as an Random Walk with Slope for the mean parameter and no level component for the variance parameter\n",
    " - Deterministic Seasonality with 12 seasonal periods for both parameters\n",
    " - No autoregressive component for the mean parameter but an AR(1) for the variance parameter\n",
    " - d = 0.0\n",
    " - Regularization with $\\alpha=0.0$\n"
   ]
  },
  {
   "cell_type": "code",
   "execution_count": 10,
   "metadata": {},
   "outputs": [
    {
     "name": "stdout",
     "output_type": "stream",
     "text": [
      "UnobservedComponentsGAS.GASModel(UnobservedComponentsGAS.NormalDistribution(missing, missing), Bool[1, 1], 0.0, [\"random walk slope\", \"\"], [\"deterministic 12\", \"deterministic 12\"], Union{Missing, Int64}[missing, 1])\n"
     ]
    }
   ],
   "source": [
    "time_varying_parameters = [true, true]\n",
    "dist                    = UnobservedComponentsGAS.NormalDistribution()\n",
    "d                       = 0.0\n",
    "num_scenarious          = 500\n",
    "\n",
    "level       = [\"random walk slope\", \"\"]\n",
    "seasonality = [\"deterministic 12\", \"deterministic 12\"]\n",
    "ar          = [missing, 1]\n",
    "\n",
    "model6 = UnobservedComponentsGAS.GASModel(dist, time_varying_parameters, d, level,seasonality, ar)\n",
    "\n",
    "println(model6)"
   ]
  },
  {
   "cell_type": "code",
   "execution_count": null,
   "metadata": {},
   "outputs": [],
   "source": [
    "fitted_model46= UnobservedComponentsGAS.fit(model6, y_airline; α = 0.8)"
   ]
  }
 ],
 "metadata": {
  "kernelspec": {
   "display_name": "Julia 1.8.5",
   "language": "julia",
   "name": "julia-1.8"
  },
  "language_info": {
   "file_extension": ".jl",
   "mimetype": "application/julia",
   "name": "julia",
   "version": "1.8.5"
  }
 },
 "nbformat": 4,
 "nbformat_minor": 2
}
